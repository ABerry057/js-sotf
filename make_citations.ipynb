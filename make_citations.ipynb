{
 "metadata": {
  "language_info": {
   "codemirror_mode": {
    "name": "ipython",
    "version": 3
   },
   "file_extension": ".py",
   "mimetype": "text/x-python",
   "name": "python",
   "nbconvert_exporter": "python",
   "pygments_lexer": "ipython3",
   "version": "3.8.3-final"
  },
  "orig_nbformat": 2,
  "kernelspec": {
   "name": "python38364bithypernetconda4ec81c218a1a419181afa3eab79d4a41",
   "display_name": "Python 3.8.3 64-bit ('hypernet': conda)"
  }
 },
 "nbformat": 4,
 "nbformat_minor": 2,
 "cells": [
  {
   "source": [
    "# Citation Generation Notebook"
   ],
   "cell_type": "markdown",
   "metadata": {}
  },
  {
   "source": [
    "This notebook uses the **xml2csv** function from the csv_cleaning module to generate a CSV file of citations from the JSTOR-provided metadata. The CSV file has fields for ID, title, article author, citation author, citation source, citation year, and a mixed citation field for nonstandard formats."
   ],
   "cell_type": "markdown",
   "metadata": {}
  },
  {
   "source": [
    "Import the necessary modules, including a custom module from csv_cleaning:"
   ],
   "cell_type": "markdown",
   "metadata": {}
  },
  {
   "cell_type": "code",
   "execution_count": 2,
   "metadata": {},
   "outputs": [],
   "source": [
    "from csv_cleaning import xml2csv\n",
    "import pandas as pd\n",
    "from pathlib import Path"
   ]
  },
  {
   "source": [
    "Declare path variables to the notebook and to the metadata files in the jstor_data directory."
   ],
   "cell_type": "markdown",
   "metadata": {}
  },
  {
   "cell_type": "code",
   "execution_count": 4,
   "metadata": {},
   "outputs": [],
   "source": [
    "nb_path = file_dir = Path(os.getcwd()).resolve()\n",
    "metadata_path = nb_path / 'jstor_data' / 'metadata'"
   ]
  },
  {
   "source": [
    "Use the xml2csv to convert the numerous XML metadata files provided by JSTOR into one dataframe object."
   ],
   "cell_type": "markdown",
   "metadata": {}
  },
  {
   "cell_type": "code",
   "execution_count": 5,
   "metadata": {
    "tags": []
   },
   "outputs": [
    {
     "output_type": "stream",
     "name": "stderr",
     "text": "Reading metadata files: 1644it [00:10, 155.20it/s]\nCollected 1644 articles\n\n"
    }
   ],
   "source": [
    "d, c = xml2csv(metadata_path)"
   ]
  },
  {
   "source": [
    "Inspect the resulting dataframe:"
   ],
   "cell_type": "markdown",
   "metadata": {}
  },
  {
   "cell_type": "code",
   "execution_count": 6,
   "metadata": {},
   "outputs": [
    {
     "output_type": "execute_result",
     "data": {
      "text/plain": "                                id  \\\n0  journal-article-10.2307_1486423   \n1  journal-article-10.2307_1486423   \n2  journal-article-10.2307_1486423   \n3  journal-article-10.2307_1486423   \n4  journal-article-10.2307_1486423   \n\n                                               title     article_author  \\\n0  A Sociological Portrait of German Jewish Immig...  Stephen G. Mostov   \n1  A Sociological Portrait of German Jewish Immig...  Stephen G. Mostov   \n2  A Sociological Portrait of German Jewish Immig...  Stephen G. Mostov   \n3  A Sociological Portrait of German Jewish Immig...  Stephen G. Mostov   \n4  A Sociological Portrait of German Jewish Immig...  Stephen G. Mostov   \n\n  citation_author                                    citation_source  \\\n0       Esslinger  Immigrants and the City: Ethnicity and Mobilit...   \n1      Thernstrom  The Other Bostonians Poverty and Progress in t...   \n2           Glanz                              Jewish Social Studies   \n3                                       Studies in Judaica Americana   \n4       Goldstein  Jewish A mericans: Three Generations in a Jewi...   \n\n  citation_year                                   citation_general  \n0          1975  \\nDean Esslinger, Immigrants and the City: Eth...  \n1          1973  \\nStephan Thernstrom's The Other Bostonians:\\n...  \n2          1955  \\nRudolf Glanz, \"The 'Bayer' and the 'Pollack'...  \n3          1970  \\nidem, Studies in Judaica Americana (New York...  \n4          1968  \\nSidney Goldstein and Calvin Goldscheider, Je...  ",
      "text/html": "<div>\n<style scoped>\n    .dataframe tbody tr th:only-of-type {\n        vertical-align: middle;\n    }\n\n    .dataframe tbody tr th {\n        vertical-align: top;\n    }\n\n    .dataframe thead th {\n        text-align: right;\n    }\n</style>\n<table border=\"1\" class=\"dataframe\">\n  <thead>\n    <tr style=\"text-align: right;\">\n      <th></th>\n      <th>id</th>\n      <th>title</th>\n      <th>article_author</th>\n      <th>citation_author</th>\n      <th>citation_source</th>\n      <th>citation_year</th>\n      <th>citation_general</th>\n    </tr>\n  </thead>\n  <tbody>\n    <tr>\n      <th>0</th>\n      <td>journal-article-10.2307_1486423</td>\n      <td>A Sociological Portrait of German Jewish Immig...</td>\n      <td>Stephen G. Mostov</td>\n      <td>Esslinger</td>\n      <td>Immigrants and the City: Ethnicity and Mobilit...</td>\n      <td>1975</td>\n      <td>\\nDean Esslinger, Immigrants and the City: Eth...</td>\n    </tr>\n    <tr>\n      <th>1</th>\n      <td>journal-article-10.2307_1486423</td>\n      <td>A Sociological Portrait of German Jewish Immig...</td>\n      <td>Stephen G. Mostov</td>\n      <td>Thernstrom</td>\n      <td>The Other Bostonians Poverty and Progress in t...</td>\n      <td>1973</td>\n      <td>\\nStephan Thernstrom's The Other Bostonians:\\n...</td>\n    </tr>\n    <tr>\n      <th>2</th>\n      <td>journal-article-10.2307_1486423</td>\n      <td>A Sociological Portrait of German Jewish Immig...</td>\n      <td>Stephen G. Mostov</td>\n      <td>Glanz</td>\n      <td>Jewish Social Studies</td>\n      <td>1955</td>\n      <td>\\nRudolf Glanz, \"The 'Bayer' and the 'Pollack'...</td>\n    </tr>\n    <tr>\n      <th>3</th>\n      <td>journal-article-10.2307_1486423</td>\n      <td>A Sociological Portrait of German Jewish Immig...</td>\n      <td>Stephen G. Mostov</td>\n      <td></td>\n      <td>Studies in Judaica Americana</td>\n      <td>1970</td>\n      <td>\\nidem, Studies in Judaica Americana (New York...</td>\n    </tr>\n    <tr>\n      <th>4</th>\n      <td>journal-article-10.2307_1486423</td>\n      <td>A Sociological Portrait of German Jewish Immig...</td>\n      <td>Stephen G. Mostov</td>\n      <td>Goldstein</td>\n      <td>Jewish A mericans: Three Generations in a Jewi...</td>\n      <td>1968</td>\n      <td>\\nSidney Goldstein and Calvin Goldscheider, Je...</td>\n    </tr>\n  </tbody>\n</table>\n</div>"
     },
     "metadata": {},
     "execution_count": 6
    }
   ],
   "source": [
    "c.head()"
   ]
  },
  {
   "source": [
    "Save the dataframe to the same directory as the notebook as a CSV file."
   ],
   "cell_type": "markdown",
   "metadata": {}
  },
  {
   "cell_type": "code",
   "execution_count": 7,
   "metadata": {},
   "outputs": [],
   "source": [
    "c.to_csv(\"citations.csv\", index=False)"
   ]
  }
 ]
}