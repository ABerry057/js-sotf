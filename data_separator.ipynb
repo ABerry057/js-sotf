{
 "metadata": {
  "language_info": {
   "codemirror_mode": {
    "name": "ipython",
    "version": 3
   },
   "file_extension": ".py",
   "mimetype": "text/x-python",
   "name": "python",
   "nbconvert_exporter": "python",
   "pygments_lexer": "ipython3",
   "version": "3.8.2-final"
  },
  "orig_nbformat": 2,
  "kernelspec": {
   "name": "python38264bitajsreviewconda38786f0edd414401891a87f582d93747",
   "display_name": "Python 3.8.2 64-bit ('ajs_review': conda)"
  }
 },
 "nbformat": 4,
 "nbformat_minor": 2,
 "cells": [
  {
   "source": [
    "# Data Separator Notebook"
   ],
   "cell_type": "markdown",
   "metadata": {}
  },
  {
   "source": [
    "Import the necessary modules:"
   ],
   "cell_type": "markdown",
   "metadata": {}
  },
  {
   "cell_type": "code",
   "execution_count": 4,
   "metadata": {},
   "outputs": [],
   "source": [
    "import pandas as pd\n",
    "import shutil\n",
    "import os\n",
    "from pathlib import Path"
   ]
  },
  {
   "source": [
    "Define a path to this notebook, to the JSTOR data, and load the prepared CSV into a dataframe to use as a reference for the next step."
   ],
   "cell_type": "markdown",
   "metadata": {}
  },
  {
   "cell_type": "code",
   "execution_count": 5,
   "metadata": {},
   "outputs": [],
   "source": [
    "file_dir = Path(os.getcwd()).resolve()\n",
    "jstor_dir = file_dir / 'jstor_data'\n",
    "\n",
    "reference_df = pd.read_csv(\"articles_gender.csv\")"
   ]
  },
  {
   "source": [
    "The following code block does a lot of work. Simply put, it takes the original JSTOR directory and splits the contents of both the ngram1 and metadata folders into separated research articles and book reviews.\n",
    "\n",
    "To illustrate the changes it makes:\n",
    "\n",
    "**Before:**\n",
    "\n",
    "└── js-sotf/\n",
    "\n",
    "    ├── LICENSE\n",
    "\n",
    "    └── jstor_data/\n",
    "\n",
    "        ├── metadata/\n",
    "\n",
    "        │   ├── 1.xml\n",
    "\n",
    "        │   ├── 2.xml\n",
    "\n",
    "        │   └── etc.xml\n",
    "\n",
    "        ├── ngram1/\n",
    "\n",
    "        │   ├── 1.txt\n",
    "\n",
    "        │   ├── 2.txt\n",
    "\n",
    "        │   └── etc.txt\n",
    "\n",
    "        ├── ngram2\n",
    "        \n",
    "        ├── ngram3\n",
    "\n",
    "        └── ocr\n",
    "\n",
    "**After:**\n",
    "\n",
    "└── js-sotf/\n",
    "\n",
    "    ├── LICENSE\n",
    "\n",
    "    ├── jstor_data\n",
    "\n",
    "    ├── metadata/\n",
    "\n",
    "    │   ├── book-review/\n",
    "\n",
    "    │   │   ├── 1.xml\n",
    "\n",
    "    │   │   ├── 2.xml\n",
    "\n",
    "    │   │   └── etc.xml\n",
    "\n",
    "    │   └── research-article/\n",
    "\n",
    "    │       ├── 1.xml\n",
    "\n",
    "    │       ├── 2.xml\n",
    "\n",
    "\n",
    "    │       └── etc.xml\n",
    "\n",
    "    └── ngram1/\n",
    "\n",
    "        ├── book-review/\n",
    "\n",
    "        │   ├── 1.txt\n",
    "\n",
    "        │   ├── 2.txt\n",
    "\n",
    "        │   └── etc.txt\n",
    "\n",
    "        └── research-article/\n",
    "\n",
    "            ├── 1.txt\n",
    "\n",
    "            ├── 2.txt\n",
    "\n",
    "            └── etc.txt"
   ],
   "cell_type": "markdown",
   "metadata": {}
  },
  {
   "cell_type": "code",
   "execution_count": 6,
   "metadata": {
    "tags": []
   },
   "outputs": [
    {
     "output_type": "stream",
     "name": "stdout",
     "text": "The book review articles and research articles have been separated.\n"
    }
   ],
   "source": [
    "meta_path_ra = file_dir / \"metadata\" / \"research-article\"\n",
    "if meta_path_ra.is_dir():\n",
    "    shutil.rmtree(meta_path_ra)\n",
    "else:\n",
    "    Path.mkdir(meta_path_ra, parents=True)\n",
    "\n",
    "meta_path_br = file_dir / \"metadata\" / \"book-review\"\n",
    "if meta_path_br.is_dir():\n",
    "    shutil.rmtree(meta_path_br)\n",
    "else:\n",
    "    Path.mkdir(meta_path_br, parents=True)\n",
    "\n",
    "ngram1_path_ra = file_dir / \"ngram1\" / \"research-article\"\n",
    "if ngram1_path_ra.is_dir():\n",
    "    shutil.rmtree(ngram1_path_ra)\n",
    "else:\n",
    "    Path.mkdir(ngram1_path_ra, parents=True)\n",
    "\n",
    "ngram1_path_br = file_dir / \"ngram1\" / \"book-review\"\n",
    "if ngram1_path_br.is_dir():\n",
    "    shutil.rmtree(ngram1_path_br)\n",
    "else:\n",
    "    Path.mkdir(ngram1_path_br, parents=True)\n",
    "\n",
    "for _, row in reference_df.iterrows():\n",
    "    type = row['type']\n",
    "    if type == \"misc\":\n",
    "        continue\n",
    "    meta_file = row['file_x']\n",
    "    ngram1_file = row['file_y']\n",
    "    meta_source_path = jstor_dir / f\"metadata/{meta_file}\"\n",
    "    shutil.copyfile(meta_source_path, file_dir / f\"metadata/{type}/{meta_file}\")\n",
    "    ngram1_source_path = jstor_dir / f\"ngram1/{ngram1_file}\"\n",
    "    shutil.copyfile(ngram1_source_path, file_dir / f\"ngram1/{type}/{ngram1_file}\")\n",
    "\n",
    "print(\"The book review articles and research articles have been separated.\")"
   ]
  },
  {
   "source": [
    "This separation makes subsequent analysis much easier when considering book reviews and research articles in isolation."
   ],
   "cell_type": "markdown",
   "metadata": {}
  },
  {
   "cell_type": "code",
   "execution_count": null,
   "metadata": {},
   "outputs": [],
   "source": []
  }
 ]
}