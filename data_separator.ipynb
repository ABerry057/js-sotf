{
 "metadata": {
  "language_info": {
   "codemirror_mode": {
    "name": "ipython",
    "version": 3
   },
   "file_extension": ".py",
   "mimetype": "text/x-python",
   "name": "python",
   "nbconvert_exporter": "python",
   "pygments_lexer": "ipython3",
   "version": "3.8.2-final"
  },
  "orig_nbformat": 2,
  "kernelspec": {
   "name": "python38264bitajsreviewconda38786f0edd414401891a87f582d93747",
   "display_name": "Python 3.8.2 64-bit ('ajs_review': conda)"
  }
 },
 "nbformat": 4,
 "nbformat_minor": 2,
 "cells": [
  {
   "cell_type": "code",
   "execution_count": 6,
   "metadata": {},
   "outputs": [],
   "source": [
    "import pandas as pd\n",
    "import shutil\n",
    "import os\n",
    "from pathlib import Path"
   ]
  },
  {
   "cell_type": "code",
   "execution_count": 7,
   "metadata": {},
   "outputs": [],
   "source": [
    "file_dir = Path(os.getcwd()).resolve()\n",
    "jstor_dir = file_path / 'jstor_data'\n",
    "\n",
    "reference_df = pd.read_csv(\"articles_gender.csv\")"
   ]
  },
  {
   "cell_type": "code",
   "execution_count": 10,
   "metadata": {},
   "outputs": [],
   "source": [
    "meta_path_ra = file_dir / \"metadata\" / \"research-article\"\n",
    "if meta_path_ra.is_dir():\n",
    "    shutil.rmtree(meta_path_ra)\n",
    "else:\n",
    "    Path.mkdir(meta_path_ra, parents=True)\n",
    "\n",
    "meta_path_br = file_dir / \"metadata\" / \"book-review\"\n",
    "if meta_path_br.is_dir():\n",
    "    shutil.rmtree(meta_path_br)\n",
    "else:\n",
    "    Path.mkdir(meta_path_br, parents=True)\n",
    "\n",
    "ngram1_path_ra = file_dir / \"ngram1\" / \"research-article\"\n",
    "if ngram1_path_ra.is_dir():\n",
    "    shutil.rmtree(ngram1_path_ra)\n",
    "else:\n",
    "    Path.mkdir(ngram1_path_ra, parents=True)\n",
    "\n",
    "ngram1_path_br = file_dir / \"ngram1\" / \"book-review\"\n",
    "if ngram1_path_br.is_dir():\n",
    "    shutil.rmtree(ngram1_path_br)\n",
    "else:\n",
    "    Path.mkdir(ngram1_path_br, parents=True)\n",
    "\n",
    "for _, row in reference_df.iterrows():\n",
    "    type = row['type']\n",
    "    if type == \"misc\":\n",
    "        continue\n",
    "    meta_file = row['file_x']\n",
    "    ngram1_file = row['file_y']\n",
    "    meta_source_path = jstor_dir / f\"metadata/{meta_file}\"\n",
    "    shutil.copyfile(meta_source_path, file_dir / f\"metadata/{type}/{meta_file}\")\n",
    "    ngram1_source_path = jstor_dir / f\"ngram1/{ngram1_file}\"\n",
    "    shutil.copyfile(ngram1_source_path, file_dir / f\"ngram1/{type}/{ngram1_file}\")\n",
    "\n",
    "print(\"The book review articles and research articles have been separated.\")"
   ]
  },
  {
   "cell_type": "code",
   "execution_count": null,
   "metadata": {},
   "outputs": [],
   "source": []
  }
 ]
}