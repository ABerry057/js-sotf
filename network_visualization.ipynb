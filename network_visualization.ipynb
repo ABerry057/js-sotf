{
 "metadata": {
  "language_info": {
   "codemirror_mode": {
    "name": "ipython",
    "version": 3
   },
   "file_extension": ".py",
   "mimetype": "text/x-python",
   "name": "python",
   "nbconvert_exporter": "python",
   "pygments_lexer": "ipython3",
   "version": "3.8.2-final"
  },
  "orig_nbformat": 2,
  "kernelspec": {
   "name": "python38264bitajsreviewconda38786f0edd414401891a87f582d93747",
   "display_name": "Python 3.8.2 64-bit ('ajs_review': conda)"
  }
 },
 "nbformat": 4,
 "nbformat_minor": 2,
 "cells": [
  {
   "source": [
    "# Network Visualization Notebook"
   ],
   "cell_type": "markdown",
   "metadata": {}
  },
  {
   "source": [
    "This notebook provides code to visualize citation networks. It requires cleaned, standardized edge and node CSV files representing the connections between authors."
   ],
   "cell_type": "markdown",
   "metadata": {}
  },
  {
   "source": [
    "Import the necessary modules:"
   ],
   "cell_type": "markdown",
   "metadata": {}
  },
  {
   "cell_type": "code",
   "execution_count": null,
   "metadata": {},
   "outputs": [],
   "source": [
    "import pandas as pd\n",
    "import numpy as np\n",
    "import networkx as nx\n",
    "import matplotlib.pyplot as plt\n",
    "import plotly.express as px"
   ]
  },
  {
   "source": [
    "Load in the node CSV file and quickly inspect it:"
   ],
   "cell_type": "markdown",
   "metadata": {}
  },
  {
   "cell_type": "code",
   "execution_count": null,
   "metadata": {
    "tags": []
   },
   "outputs": [],
   "source": [
    "node_df = pd.read_csv(\"nodes.csv\")\n",
    "node_df.head()"
   ]
  },
  {
   "source": [
    "Load in the edge CSV file and quickly inspect it:"
   ],
   "cell_type": "markdown",
   "metadata": {}
  },
  {
   "cell_type": "code",
   "execution_count": null,
   "metadata": {
    "tags": []
   },
   "outputs": [],
   "source": [
    "edge_df = pd.read_csv(\"edges.csv\")\n",
    "edge_df.head()"
   ]
  },
  {
   "source": [
    "The following code adds the nodes and then edges to the network. It also removes any isolate nodes with no connections to other nodes."
   ],
   "cell_type": "markdown",
   "metadata": {}
  },
  {
   "cell_type": "code",
   "execution_count": null,
   "metadata": {
    "tags": []
   },
   "outputs": [],
   "source": [
    "G = nx.DiGraph()\n",
    "\n",
    "# add nodes\n",
    "for _, row in node_df.iterrows():\n",
    "    id = row.Id\n",
    "    name = row.label\n",
    "    G.add_node(id)\n",
    "\n",
    "\n",
    "# add edges between nodes\n",
    "for _, row in edge_df.iterrows():\n",
    "    source = row.source\n",
    "    target = row.target\n",
    "    G.add_edge(source, target)\n",
    "\n",
    "# remove isolate nodes with no connections\n",
    "G_copy = G.copy()\n",
    "isolate_nodes = nx.isolates(G)\n",
    "G_copy.remove_nodes_from(isolate_nodes)"
   ]
  },
  {
   "source": [
    "You can define a threshold value to filter nodes based on their out degree (number of outgoing connections). This code block defines that threshold and then removes nodes from the network below that threshold."
   ],
   "cell_type": "markdown",
   "metadata": {}
  },
  {
   "cell_type": "code",
   "execution_count": null,
   "metadata": {},
   "outputs": [],
   "source": [
    "# filtering author based on how many citations they make\n",
    "threshold = 4\n",
    "nodes_to_remove = []\n",
    "nodes_by_degree = dict(G_copy.out_degree())\n",
    "\n",
    "for key, value in nodes_by_degree.items():\n",
    "    if value < threshold:\n",
    "        nodes_to_remove.append(key)\n",
    "G_copy.remove_nodes_from(nodes_to_remove)"
   ]
  },
  {
   "source": [
    "This block updates the set of labels for the network based on the nodes removed in the previous step."
   ],
   "cell_type": "markdown",
   "metadata": {}
  },
  {
   "cell_type": "code",
   "execution_count": null,
   "metadata": {},
   "outputs": [],
   "source": [
    "valid_nodes = set(G_copy.nodes())\n",
    "valid_node_df = node_df.loc[node_df['Id'].isin(valid_nodes)]\n",
    "n_labels = {id : label for id, label in zip(valid_node_df['Id'], valid_node_df['label'])}"
   ]
  },
  {
   "source": [
    "We also define the sizes of the nodes based on their respective degrees. 300 is the default size and is therefore assigned to nodes with the mean value of degree."
   ],
   "cell_type": "markdown",
   "metadata": {}
  },
  {
   "cell_type": "code",
   "execution_count": null,
   "metadata": {},
   "outputs": [],
   "source": [
    "# generate scaled sizes for nodes\n",
    "degrees = dict(nx.degree(G_copy))\n",
    "scaling_factor = 300/np.mean(list(degrees.values())) # 300 is default size for nodes\n",
    "node_sizes = [d*scaling_factor for d in degrees.values()]\n",
    "max_size = max(node_sizes)"
   ]
  },
  {
   "source": [
    "This code draws the network based on the remaining nodes and edges and using the attributes defined previously. It also saves it to the working directory."
   ],
   "cell_type": "markdown",
   "metadata": {}
  },
  {
   "cell_type": "code",
   "execution_count": null,
   "metadata": {
    "tags": []
   },
   "outputs": [],
   "source": [
    "plt.figure(figsize=(100,60))\n",
    "nx.draw(\n",
    "    G_copy,\n",
    "    # pos=nx.spring_layout(G_copy, k=0.05, iterations=20),\n",
    "    pos=nx.kamada_kawai_layout(G_copy),\n",
    "    with_labels=True,\n",
    "    node_size=node_sizes,\n",
    "    node_color = node_sizes,\n",
    "    cmap=plt.cm.RdYlGn,\n",
    "    vmin=0,\n",
    "    vmax=max_size,\n",
    "    alpha=0.7,\n",
    "    labels=n_labels,\n",
    "    font_color='blue',\n",
    "    font_size='18',\n",
    "    edge_color='black'\n",
    ")\n",
    "plt.savefig(\"graph.png\")\n",
    "plt.show()"
   ]
  },
  {
   "source": [
    "### Other Metrics"
   ],
   "cell_type": "markdown",
   "metadata": {}
  },
  {
   "source": [
    "We can also visualize the network by comparing the in-degrees and out-degrees of authors."
   ],
   "cell_type": "markdown",
   "metadata": {}
  },
  {
   "source": [
    "This code generates a dataframe of authors and their in-degree values."
   ],
   "cell_type": "markdown",
   "metadata": {}
  },
  {
   "cell_type": "code",
   "execution_count": null,
   "metadata": {},
   "outputs": [],
   "source": [
    "nodes_in_degree = dict(G_copy.in_degree())\n",
    "sorted_nodes_in = sorted(nodes_in_degree.items(), key=lambda x: x[1], reverse=True)\n",
    "authors_in_df = pd.DataFrame.from_records(sorted_nodes_in, columns=['Index', 'Citations'])\n",
    "authors_in_df['Author'] = authors_in_df['Index'].map(n_labels)\n",
    "authors_in_df.head()"
   ]
  },
  {
   "source": [
    "We visualize the top 25 authors with the following bar chart:"
   ],
   "cell_type": "markdown",
   "metadata": {}
  },
  {
   "cell_type": "code",
   "execution_count": null,
   "metadata": {},
   "outputs": [],
   "source": [
    "in_df = authors_in_df.nlargest(25, 'Citations')\n",
    "fig = px.bar(in_df, x='Author', y='Citations', title=\"Top 25 Most-Cited Authors\")\n",
    "fig.show(renderer='svg')"
   ]
  },
  {
   "source": [
    "We repeat the process for the out-degree values of the authors:"
   ],
   "cell_type": "markdown",
   "metadata": {}
  },
  {
   "cell_type": "code",
   "execution_count": null,
   "metadata": {},
   "outputs": [],
   "source": [
    "nodes_out_degree = dict(G_copy.out_degree())\n",
    "sorted_nodes_out = sorted(nodes_out_degree.items(), key=lambda x: x[1], reverse=True)\n",
    "authors_out_df = pd.DataFrame.from_records(sorted_nodes_out, columns=['Index', 'Citations'])\n",
    "authors_out_df['Author'] = authors_out_df['Index'].map(n_labels)\n",
    "authors_out_df.head()"
   ]
  },
  {
   "cell_type": "code",
   "execution_count": null,
   "metadata": {},
   "outputs": [],
   "source": [
    "out_df = authors_out_df.nlargest(25, 'Citations')\n",
    "fig = px.bar(out_df, x='Author', y='Citations', title=\"Top 25 Authors Citing Others\")\n",
    "fig.show(renderer='svg')"
   ]
  },
  {
   "source": [
    "The following lines will print the names of any authors that appear in the top 25 for both in- and out-degree values."
   ],
   "cell_type": "markdown",
   "metadata": {}
  },
  {
   "cell_type": "code",
   "execution_count": null,
   "metadata": {},
   "outputs": [],
   "source": [
    "authors_out = set(out_df['Author'])\n",
    "authors_in = set(in_df['Author'])\n",
    "authors_out.intersection(authors_in)"
   ]
  }
 ]
}