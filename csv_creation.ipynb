{
 "cells": [
  {
   "cell_type": "code",
   "execution_count": 3,
   "metadata": {},
   "outputs": [],
   "source": [
    "import os\n",
    "import pandas as pd\n",
    "from tqdm import tqdm\n",
    "import xml.etree.ElementTree as ET\n",
    "import re\n",
    "from pathlib import Path\n",
    "\n",
    "file_dir = Path(os.getcwd()).resolve()\n",
    "meta_path = file_dir / 'jstor_data' / 'metadata'"
   ]
  },
  {
   "cell_type": "code",
   "execution_count": 6,
   "metadata": {
    "tags": []
   },
   "outputs": [
    {
     "output_type": "stream",
     "name": "stderr",
     "text": "Reading metadata files: 1644it [00:11, 146.39it/s]\nCollected 1644 articles\n\n"
    }
   ],
   "source": [
    "files = meta_path.iterdir()\n",
    "cols = ['id', 'type', 'title', 'author', 'year', 'lang', 'file_x', 'file_y']\n",
    "df = pd.DataFrame(columns=cols)\n",
    "\n",
    "for i, f in tqdm(enumerate(files), desc='Reading metadata files'):\n",
    "    tree = ET.parse(f)\n",
    "    root = tree.getroot()\n",
    "    f_string = str(f)\n",
    "    m = re.search('metadata/(.+?).xml', f_string)\n",
    "    if m:\n",
    "        id = m.group(1)\n",
    "    else:\n",
    "        id = 'ID not found'\n",
    "    type = root.attrib['article-type']\n",
    "    # title handling\n",
    "    title_group = root.find('front/article-meta/title-group')\n",
    "    if title_group is not None and len(title_group.getchildren()) > 0:\n",
    "        title = list(title_group.itertext())[1]\n",
    "    else:\n",
    "        title = ''\n",
    "    # author handling\n",
    "    contrib_group = root.find('front/article-meta/contrib-group')\n",
    "    if contrib_group is not None and len(contrib_group.getchildren()) > 0:\n",
    "        author = ' '.join([list(c.itertext())[0] for c in root.find('front/article-meta/contrib-group/contrib/string-name')])\n",
    "    else:\n",
    "        author = ''\n",
    "    lang = list(root.find('front/article-meta/custom-meta-group/custom-meta/meta-value').itertext())[0]\n",
    "    year = int(list(root.find('front/article-meta/pub-date/year').itertext())[0])\n",
    "    file_x = str(f).split(\"metadata/\")[1]\n",
    "    file_y = file_x.replace('.xml', '-ngram1.txt')\n",
    "    df.loc[i] = [id, type, title, author, year, lang, file_x, file_y]\n",
    "print(f\"\\nCollected {df.shape[0]} articles\")"
   ]
  },
  {
   "cell_type": "code",
   "execution_count": 7,
   "metadata": {},
   "outputs": [
    {
     "output_type": "execute_result",
     "data": {
      "text/plain": "                                id              type  \\\n0  journal-article-10.2307_1486423  research-article   \n1  journal-article-10.2307_1486465  research-article   \n2  journal-article-10.2307_1486694              misc   \n3  journal-article-10.2307_4131787       book-review   \n4  journal-article-10.2307_1566672       book-review   \n\n                                               title             author  year  \\\n0  A Sociological Portrait of German Jewish Immig...  Stephen G. Mostov  1978   \n1  Lawrence Perlman's \"Buber's Anti-Kantianism\": ...     Steven T. Katz  1990   \n2                                  Collected Studies                     1996   \n3                                                     Gordon M. Freeman  2003   \n4                                       \\n             James S. Diamond  2000   \n\n  lang                               file_x  \\\n0  eng  journal-article-10.2307_1486423.xml   \n1  eng  journal-article-10.2307_1486465.xml   \n2  eng  journal-article-10.2307_1486694.xml   \n3  eng  journal-article-10.2307_4131787.xml   \n4  eng  journal-article-10.2307_1566672.xml   \n\n                                       file_y  \n0  journal-article-10.2307_1486423-ngram1.txt  \n1  journal-article-10.2307_1486465-ngram1.txt  \n2  journal-article-10.2307_1486694-ngram1.txt  \n3  journal-article-10.2307_4131787-ngram1.txt  \n4  journal-article-10.2307_1566672-ngram1.txt  ",
      "text/html": "<div>\n<style scoped>\n    .dataframe tbody tr th:only-of-type {\n        vertical-align: middle;\n    }\n\n    .dataframe tbody tr th {\n        vertical-align: top;\n    }\n\n    .dataframe thead th {\n        text-align: right;\n    }\n</style>\n<table border=\"1\" class=\"dataframe\">\n  <thead>\n    <tr style=\"text-align: right;\">\n      <th></th>\n      <th>id</th>\n      <th>type</th>\n      <th>title</th>\n      <th>author</th>\n      <th>year</th>\n      <th>lang</th>\n      <th>file_x</th>\n      <th>file_y</th>\n    </tr>\n  </thead>\n  <tbody>\n    <tr>\n      <th>0</th>\n      <td>journal-article-10.2307_1486423</td>\n      <td>research-article</td>\n      <td>A Sociological Portrait of German Jewish Immig...</td>\n      <td>Stephen G. Mostov</td>\n      <td>1978</td>\n      <td>eng</td>\n      <td>journal-article-10.2307_1486423.xml</td>\n      <td>journal-article-10.2307_1486423-ngram1.txt</td>\n    </tr>\n    <tr>\n      <th>1</th>\n      <td>journal-article-10.2307_1486465</td>\n      <td>research-article</td>\n      <td>Lawrence Perlman's \"Buber's Anti-Kantianism\": ...</td>\n      <td>Steven T. Katz</td>\n      <td>1990</td>\n      <td>eng</td>\n      <td>journal-article-10.2307_1486465.xml</td>\n      <td>journal-article-10.2307_1486465-ngram1.txt</td>\n    </tr>\n    <tr>\n      <th>2</th>\n      <td>journal-article-10.2307_1486694</td>\n      <td>misc</td>\n      <td>Collected Studies</td>\n      <td></td>\n      <td>1996</td>\n      <td>eng</td>\n      <td>journal-article-10.2307_1486694.xml</td>\n      <td>journal-article-10.2307_1486694-ngram1.txt</td>\n    </tr>\n    <tr>\n      <th>3</th>\n      <td>journal-article-10.2307_4131787</td>\n      <td>book-review</td>\n      <td></td>\n      <td>Gordon M. Freeman</td>\n      <td>2003</td>\n      <td>eng</td>\n      <td>journal-article-10.2307_4131787.xml</td>\n      <td>journal-article-10.2307_4131787-ngram1.txt</td>\n    </tr>\n    <tr>\n      <th>4</th>\n      <td>journal-article-10.2307_1566672</td>\n      <td>book-review</td>\n      <td>\\n</td>\n      <td>James S. Diamond</td>\n      <td>2000</td>\n      <td>eng</td>\n      <td>journal-article-10.2307_1566672.xml</td>\n      <td>journal-article-10.2307_1566672-ngram1.txt</td>\n    </tr>\n  </tbody>\n</table>\n</div>"
     },
     "metadata": {},
     "execution_count": 7
    }
   ],
   "source": [
    "df.head()"
   ]
  },
  {
   "cell_type": "code",
   "execution_count": 8,
   "metadata": {},
   "outputs": [],
   "source": [
    "df.to_csv(\"articles_raw.csv\", index=False)"
   ]
  },
  {
   "cell_type": "code",
   "execution_count": null,
   "metadata": {},
   "outputs": [],
   "source": []
  }
 ],
 "metadata": {
  "language_info": {
   "codemirror_mode": {
    "name": "ipython",
    "version": 3
   },
   "file_extension": ".py",
   "mimetype": "text/x-python",
   "name": "python",
   "nbconvert_exporter": "python",
   "pygments_lexer": "ipython3",
   "version": "3.8.2-final"
  },
  "orig_nbformat": 2,
  "kernelspec": {
   "name": "python38264bitajsreviewconda38786f0edd414401891a87f582d93747",
   "display_name": "Python 3.8.2 64-bit ('ajs_review': conda)"
  }
 },
 "nbformat": 4,
 "nbformat_minor": 2
}