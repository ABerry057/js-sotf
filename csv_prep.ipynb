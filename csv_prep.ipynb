{
 "metadata": {
  "language_info": {
   "codemirror_mode": {
    "name": "ipython",
    "version": 3
   },
   "file_extension": ".py",
   "mimetype": "text/x-python",
   "name": "python",
   "nbconvert_exporter": "python",
   "pygments_lexer": "ipython3",
   "version": "3.8.2-final"
  },
  "orig_nbformat": 2,
  "kernelspec": {
   "name": "python38264bitajsreviewconda38786f0edd414401891a87f582d93747",
   "display_name": "Python 3.8.2 64-bit ('ajs_review': conda)"
  }
 },
 "nbformat": 4,
 "nbformat_minor": 2,
 "cells": [
  {
   "cell_type": "code",
   "execution_count": 1,
   "metadata": {},
   "outputs": [],
   "source": [
    "import pandas as pd\n",
    "from tqdm import tqdm\n",
    "import gender_guesser.detector as gender"
   ]
  },
  {
   "cell_type": "code",
   "execution_count": 2,
   "metadata": {},
   "outputs": [],
   "source": [
    "def remove_misc_articles(df):\n",
    "    \"\"\"Removes articles with the type 'misc' and stores them in a\n",
    "    separate dataframe. Returns a tuple of the misc dataframe\n",
    "    and a copy of df with the misc article rows removed.\n",
    "\n",
    "    Args:\n",
    "        df (Pandas dataframe): Dataframe from which to remove misc rows\n",
    "\n",
    "    Returns:\n",
    "        [Tuple]: (misc dataframe, copy of original dataframe with misc removed)\n",
    "    \"\"\"\n",
    "    clean_df = df.copy()\n",
    "    misc_indices = df[df['type'] == 'misc'].index\n",
    "    misc_df = df.loc[misc_indices]\n",
    "    clean_df.drop(misc_indices, axis=0, inplace=True)\n",
    "    return (clean_df, misc_df)"
   ]
  },
  {
   "cell_type": "code",
   "execution_count": 3,
   "metadata": {
    "tags": []
   },
   "outputs": [
    {
     "output_type": "stream",
     "name": "stdout",
     "text": "Size of raw article dataframe: (1644, 8)\n"
    },
    {
     "output_type": "execute_result",
     "data": {
      "text/plain": "                                id              type  \\\n0  journal-article-10.2307_1486423  research-article   \n1  journal-article-10.2307_1486465  research-article   \n2  journal-article-10.2307_1486694              misc   \n3  journal-article-10.2307_4131787       book-review   \n4  journal-article-10.2307_1566672       book-review   \n\n                                               title             author  year  \\\n0  A Sociological Portrait of German Jewish Immig...  Stephen G. Mostov  1978   \n1  Lawrence Perlman's \"Buber's Anti-Kantianism\": ...     Steven T. Katz  1990   \n2                                  Collected Studies                NaN  1996   \n3                                                NaN  Gordon M. Freeman  2003   \n4                                       \\n             James S. Diamond  2000   \n\n  lang                               file_x  \\\n0  eng  journal-article-10.2307_1486423.xml   \n1  eng  journal-article-10.2307_1486465.xml   \n2  eng  journal-article-10.2307_1486694.xml   \n3  eng  journal-article-10.2307_4131787.xml   \n4  eng  journal-article-10.2307_1566672.xml   \n\n                                       file_y  \n0  journal-article-10.2307_1486423-ngram1.txt  \n1  journal-article-10.2307_1486465-ngram1.txt  \n2  journal-article-10.2307_1486694-ngram1.txt  \n3  journal-article-10.2307_4131787-ngram1.txt  \n4  journal-article-10.2307_1566672-ngram1.txt  ",
      "text/html": "<div>\n<style scoped>\n    .dataframe tbody tr th:only-of-type {\n        vertical-align: middle;\n    }\n\n    .dataframe tbody tr th {\n        vertical-align: top;\n    }\n\n    .dataframe thead th {\n        text-align: right;\n    }\n</style>\n<table border=\"1\" class=\"dataframe\">\n  <thead>\n    <tr style=\"text-align: right;\">\n      <th></th>\n      <th>id</th>\n      <th>type</th>\n      <th>title</th>\n      <th>author</th>\n      <th>year</th>\n      <th>lang</th>\n      <th>file_x</th>\n      <th>file_y</th>\n    </tr>\n  </thead>\n  <tbody>\n    <tr>\n      <th>0</th>\n      <td>journal-article-10.2307_1486423</td>\n      <td>research-article</td>\n      <td>A Sociological Portrait of German Jewish Immig...</td>\n      <td>Stephen G. Mostov</td>\n      <td>1978</td>\n      <td>eng</td>\n      <td>journal-article-10.2307_1486423.xml</td>\n      <td>journal-article-10.2307_1486423-ngram1.txt</td>\n    </tr>\n    <tr>\n      <th>1</th>\n      <td>journal-article-10.2307_1486465</td>\n      <td>research-article</td>\n      <td>Lawrence Perlman's \"Buber's Anti-Kantianism\": ...</td>\n      <td>Steven T. Katz</td>\n      <td>1990</td>\n      <td>eng</td>\n      <td>journal-article-10.2307_1486465.xml</td>\n      <td>journal-article-10.2307_1486465-ngram1.txt</td>\n    </tr>\n    <tr>\n      <th>2</th>\n      <td>journal-article-10.2307_1486694</td>\n      <td>misc</td>\n      <td>Collected Studies</td>\n      <td>NaN</td>\n      <td>1996</td>\n      <td>eng</td>\n      <td>journal-article-10.2307_1486694.xml</td>\n      <td>journal-article-10.2307_1486694-ngram1.txt</td>\n    </tr>\n    <tr>\n      <th>3</th>\n      <td>journal-article-10.2307_4131787</td>\n      <td>book-review</td>\n      <td>NaN</td>\n      <td>Gordon M. Freeman</td>\n      <td>2003</td>\n      <td>eng</td>\n      <td>journal-article-10.2307_4131787.xml</td>\n      <td>journal-article-10.2307_4131787-ngram1.txt</td>\n    </tr>\n    <tr>\n      <th>4</th>\n      <td>journal-article-10.2307_1566672</td>\n      <td>book-review</td>\n      <td>\\n</td>\n      <td>James S. Diamond</td>\n      <td>2000</td>\n      <td>eng</td>\n      <td>journal-article-10.2307_1566672.xml</td>\n      <td>journal-article-10.2307_1566672-ngram1.txt</td>\n    </tr>\n  </tbody>\n</table>\n</div>"
     },
     "metadata": {},
     "execution_count": 3
    }
   ],
   "source": [
    "raw_article_df = pd.read_csv(\"articles_raw.csv\")\n",
    "print(f'Size of raw article dataframe: {raw_article_df.shape}')\n",
    "raw_article_df.head()"
   ]
  },
  {
   "cell_type": "code",
   "execution_count": 4,
   "metadata": {
    "tags": []
   },
   "outputs": [
    {
     "output_type": "stream",
     "name": "stdout",
     "text": "Size of article dataframe with miscellaneous articles removed: (1469, 8)\n"
    },
    {
     "output_type": "execute_result",
     "data": {
      "text/plain": "                                 id              type  \\\n0   journal-article-10.2307_1486423  research-article   \n1   journal-article-10.2307_1486465  research-article   \n3   journal-article-10.2307_4131787       book-review   \n4   journal-article-10.2307_1566672       book-review   \n5  journal-article-10.2307_27564391       book-review   \n\n                                               title             author  year  \\\n0  A Sociological Portrait of German Jewish Immig...  Stephen G. Mostov  1978   \n1  Lawrence Perlman's \"Buber's Anti-Kantianism\": ...     Steven T. Katz  1990   \n3                                                NaN  Gordon M. Freeman  2003   \n4                                       \\n             James S. Diamond  2000   \n5                                                NaN        Alisa Braun  2008   \n\n  lang                                file_x  \\\n0  eng   journal-article-10.2307_1486423.xml   \n1  eng   journal-article-10.2307_1486465.xml   \n3  eng   journal-article-10.2307_4131787.xml   \n4  eng   journal-article-10.2307_1566672.xml   \n5  eng  journal-article-10.2307_27564391.xml   \n\n                                        file_y  \n0   journal-article-10.2307_1486423-ngram1.txt  \n1   journal-article-10.2307_1486465-ngram1.txt  \n3   journal-article-10.2307_4131787-ngram1.txt  \n4   journal-article-10.2307_1566672-ngram1.txt  \n5  journal-article-10.2307_27564391-ngram1.txt  ",
      "text/html": "<div>\n<style scoped>\n    .dataframe tbody tr th:only-of-type {\n        vertical-align: middle;\n    }\n\n    .dataframe tbody tr th {\n        vertical-align: top;\n    }\n\n    .dataframe thead th {\n        text-align: right;\n    }\n</style>\n<table border=\"1\" class=\"dataframe\">\n  <thead>\n    <tr style=\"text-align: right;\">\n      <th></th>\n      <th>id</th>\n      <th>type</th>\n      <th>title</th>\n      <th>author</th>\n      <th>year</th>\n      <th>lang</th>\n      <th>file_x</th>\n      <th>file_y</th>\n    </tr>\n  </thead>\n  <tbody>\n    <tr>\n      <th>0</th>\n      <td>journal-article-10.2307_1486423</td>\n      <td>research-article</td>\n      <td>A Sociological Portrait of German Jewish Immig...</td>\n      <td>Stephen G. Mostov</td>\n      <td>1978</td>\n      <td>eng</td>\n      <td>journal-article-10.2307_1486423.xml</td>\n      <td>journal-article-10.2307_1486423-ngram1.txt</td>\n    </tr>\n    <tr>\n      <th>1</th>\n      <td>journal-article-10.2307_1486465</td>\n      <td>research-article</td>\n      <td>Lawrence Perlman's \"Buber's Anti-Kantianism\": ...</td>\n      <td>Steven T. Katz</td>\n      <td>1990</td>\n      <td>eng</td>\n      <td>journal-article-10.2307_1486465.xml</td>\n      <td>journal-article-10.2307_1486465-ngram1.txt</td>\n    </tr>\n    <tr>\n      <th>3</th>\n      <td>journal-article-10.2307_4131787</td>\n      <td>book-review</td>\n      <td>NaN</td>\n      <td>Gordon M. Freeman</td>\n      <td>2003</td>\n      <td>eng</td>\n      <td>journal-article-10.2307_4131787.xml</td>\n      <td>journal-article-10.2307_4131787-ngram1.txt</td>\n    </tr>\n    <tr>\n      <th>4</th>\n      <td>journal-article-10.2307_1566672</td>\n      <td>book-review</td>\n      <td>\\n</td>\n      <td>James S. Diamond</td>\n      <td>2000</td>\n      <td>eng</td>\n      <td>journal-article-10.2307_1566672.xml</td>\n      <td>journal-article-10.2307_1566672-ngram1.txt</td>\n    </tr>\n    <tr>\n      <th>5</th>\n      <td>journal-article-10.2307_27564391</td>\n      <td>book-review</td>\n      <td>NaN</td>\n      <td>Alisa Braun</td>\n      <td>2008</td>\n      <td>eng</td>\n      <td>journal-article-10.2307_27564391.xml</td>\n      <td>journal-article-10.2307_27564391-ngram1.txt</td>\n    </tr>\n  </tbody>\n</table>\n</div>"
     },
     "metadata": {},
     "execution_count": 4
    }
   ],
   "source": [
    "no_misc_df, misc_df = remove_misc_articles(raw_article_df)\n",
    "print(f'Size of article dataframe with miscellaneous articles removed: {no_misc_df.shape}')\n",
    "no_misc_df.head()"
   ]
  },
  {
   "cell_type": "code",
   "execution_count": 5,
   "metadata": {},
   "outputs": [],
   "source": [
    "def name_to_gender(row):\n",
    "    \"\"\"Estimates the gender of a person based on their given name.\n",
    "    The given name must be separated from the rest of the name by \n",
    "    a space character. The author column must be named 'auth1'.\n",
    "\n",
    "    Arguments:\n",
    "        row {Series} -- Series of a dataframe with a field\n",
    "                         representing a person's full name.\n",
    "    \"\"\"\n",
    "    d = gender.Detector()\n",
    "    try:\n",
    "        forename = row['author'].split(\" \")[0]\n",
    "        return d.get_gender(forename)\n",
    "    except AttributeError:\n",
    "        return 'unknown'\n",
    "\n",
    "def infer_gender(df):\n",
    "    \"\"\"Infers the gender of authors and returns a new\n",
    "    dataframe with a gender column.\n",
    "\n",
    "    Args:\n",
    "        df (Pandas datafframe): Must include a column\n",
    "        with authors' names.\n",
    "\n",
    "    Returns:\n",
    "        [Pandas dataframe]: A copy of df with the new gender column\n",
    "    \"\"\"\n",
    "    gender_df = df.copy()\n",
    "    auth_gender = df.apply(name_to_gender, axis=1)\n",
    "    gender_df.insert(4, 'auth_gender', auth_gender)\n",
    "    return gender_df"
   ]
  },
  {
   "cell_type": "code",
   "execution_count": 6,
   "metadata": {},
   "outputs": [
    {
     "output_type": "execute_result",
     "data": {
      "text/plain": "                                 id              type  \\\n0   journal-article-10.2307_1486423  research-article   \n1   journal-article-10.2307_1486465  research-article   \n3   journal-article-10.2307_4131787       book-review   \n4   journal-article-10.2307_1566672       book-review   \n5  journal-article-10.2307_27564391       book-review   \n\n                                               title             author  \\\n0  A Sociological Portrait of German Jewish Immig...  Stephen G. Mostov   \n1  Lawrence Perlman's \"Buber's Anti-Kantianism\": ...     Steven T. Katz   \n3                                                NaN  Gordon M. Freeman   \n4                                       \\n             James S. Diamond   \n5                                                NaN        Alisa Braun   \n\n  auth_gender  year lang                                file_x  \\\n0        male  1978  eng   journal-article-10.2307_1486423.xml   \n1        male  1990  eng   journal-article-10.2307_1486465.xml   \n3        male  2003  eng   journal-article-10.2307_4131787.xml   \n4        male  2000  eng   journal-article-10.2307_1566672.xml   \n5      female  2008  eng  journal-article-10.2307_27564391.xml   \n\n                                        file_y  \n0   journal-article-10.2307_1486423-ngram1.txt  \n1   journal-article-10.2307_1486465-ngram1.txt  \n3   journal-article-10.2307_4131787-ngram1.txt  \n4   journal-article-10.2307_1566672-ngram1.txt  \n5  journal-article-10.2307_27564391-ngram1.txt  ",
      "text/html": "<div>\n<style scoped>\n    .dataframe tbody tr th:only-of-type {\n        vertical-align: middle;\n    }\n\n    .dataframe tbody tr th {\n        vertical-align: top;\n    }\n\n    .dataframe thead th {\n        text-align: right;\n    }\n</style>\n<table border=\"1\" class=\"dataframe\">\n  <thead>\n    <tr style=\"text-align: right;\">\n      <th></th>\n      <th>id</th>\n      <th>type</th>\n      <th>title</th>\n      <th>author</th>\n      <th>auth_gender</th>\n      <th>year</th>\n      <th>lang</th>\n      <th>file_x</th>\n      <th>file_y</th>\n    </tr>\n  </thead>\n  <tbody>\n    <tr>\n      <th>0</th>\n      <td>journal-article-10.2307_1486423</td>\n      <td>research-article</td>\n      <td>A Sociological Portrait of German Jewish Immig...</td>\n      <td>Stephen G. Mostov</td>\n      <td>male</td>\n      <td>1978</td>\n      <td>eng</td>\n      <td>journal-article-10.2307_1486423.xml</td>\n      <td>journal-article-10.2307_1486423-ngram1.txt</td>\n    </tr>\n    <tr>\n      <th>1</th>\n      <td>journal-article-10.2307_1486465</td>\n      <td>research-article</td>\n      <td>Lawrence Perlman's \"Buber's Anti-Kantianism\": ...</td>\n      <td>Steven T. Katz</td>\n      <td>male</td>\n      <td>1990</td>\n      <td>eng</td>\n      <td>journal-article-10.2307_1486465.xml</td>\n      <td>journal-article-10.2307_1486465-ngram1.txt</td>\n    </tr>\n    <tr>\n      <th>3</th>\n      <td>journal-article-10.2307_4131787</td>\n      <td>book-review</td>\n      <td>NaN</td>\n      <td>Gordon M. Freeman</td>\n      <td>male</td>\n      <td>2003</td>\n      <td>eng</td>\n      <td>journal-article-10.2307_4131787.xml</td>\n      <td>journal-article-10.2307_4131787-ngram1.txt</td>\n    </tr>\n    <tr>\n      <th>4</th>\n      <td>journal-article-10.2307_1566672</td>\n      <td>book-review</td>\n      <td>\\n</td>\n      <td>James S. Diamond</td>\n      <td>male</td>\n      <td>2000</td>\n      <td>eng</td>\n      <td>journal-article-10.2307_1566672.xml</td>\n      <td>journal-article-10.2307_1566672-ngram1.txt</td>\n    </tr>\n    <tr>\n      <th>5</th>\n      <td>journal-article-10.2307_27564391</td>\n      <td>book-review</td>\n      <td>NaN</td>\n      <td>Alisa Braun</td>\n      <td>female</td>\n      <td>2008</td>\n      <td>eng</td>\n      <td>journal-article-10.2307_27564391.xml</td>\n      <td>journal-article-10.2307_27564391-ngram1.txt</td>\n    </tr>\n  </tbody>\n</table>\n</div>"
     },
     "metadata": {},
     "execution_count": 6
    }
   ],
   "source": [
    "inferred_gender_df = infer_gender(no_misc_df)\n",
    "inferred_gender_df.head()"
   ]
  },
  {
   "cell_type": "markdown",
   "metadata": {},
   "source": [
    "Please inspect the inferred genders, and if necessary, correct any mistakes and fill in any genders marked as 'unknown' if possible. The tool used here is only a heuristic and is by no means perfect."
   ]
  },
  {
   "cell_type": "code",
   "execution_count": 7,
   "metadata": {},
   "outputs": [],
   "source": [
    "inferred_gender_df.to_csv('articles_gender.csv', index=False)"
   ]
  },
  {
   "cell_type": "code",
   "execution_count": null,
   "metadata": {},
   "outputs": [],
   "source": []
  }
 ]
}